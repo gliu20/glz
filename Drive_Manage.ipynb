{
  "nbformat": 4,
  "nbformat_minor": 0,
  "metadata": {
    "colab": {
      "name": "Drive Manage.ipynb",
      "provenance": []
    },
    "kernelspec": {
      "display_name": "Python 3",
      "name": "python3"
    },
    "language_info": {
      "name": "python"
    }
  },
  "cells": [
    {
      "cell_type": "markdown",
      "metadata": {
        "id": "wTYYdBB5z-gg"
      },
      "source": [
        "# Setup"
      ]
    },
    {
      "cell_type": "code",
      "metadata": {
        "id": "wbThy6P2SINp"
      },
      "source": [
        "from google.colab import drive\n",
        "drive.mount('/content/drive')"
      ],
      "execution_count": null,
      "outputs": []
    },
    {
      "cell_type": "code",
      "metadata": {
        "id": "8J3YsyEmyW8Y"
      },
      "source": [
        "!sudo apt-get install fdupes"
      ],
      "execution_count": null,
      "outputs": []
    },
    {
      "cell_type": "markdown",
      "metadata": {
        "id": "TyEI70lj0Oag"
      },
      "source": [
        "# script"
      ]
    },
    {
      "cell_type": "code",
      "metadata": {
        "id": "jULMHVk-Ui5F"
      },
      "source": [
        "%%bash\n",
        "cat << EOF > delete_file.py\n",
        "#!/usr/bin/python\n",
        "\n",
        "import sys\n",
        "import os\n",
        "\n",
        "delete_filepath = sys.argv[1];\n",
        "\n",
        "open(delete_filepath, 'w').close()\n",
        "os.remove(delete_filepath)\n",
        "EOF"
      ],
      "execution_count": 42,
      "outputs": []
    },
    {
      "cell_type": "code",
      "metadata": {
        "id": "NkxvKqlZGwSy",
        "colab": {
          "base_uri": "https://localhost:8080/"
        },
        "outputId": "72e672d9-e545-4602-a1dc-b8431c1b10b8"
      },
      "source": [
        "%%bash\n",
        "\n",
        "\n",
        "CLEAN_ITERATIONS=0\n",
        "DESPERATE_ITERATIONS=0\n",
        "\n",
        "NUM_OF_COMPR=0\n",
        "echo \"$NUM_OF_COMPR\" > tmp_compr_count\n",
        "\n",
        "NUM_OF_DUPS=0\n",
        "echo \"$NUM_OF_DUPS\" > tmp_dups_count\n",
        "\n",
        "FIND_PROGRESS=0\n",
        "\n",
        "find_inc () {\n",
        "  FIND_PROGRESS=$(($FIND_PROGRESS + 1))\n",
        "  echo \"Running query $FIND_PROGRESS\"\n",
        "}\n",
        "\n",
        "find_trash_files () {\n",
        "  find drive/ -type f -iname '*nos*18*ans*' | grep -v \"\\.g\" | grep -v \"School\" >> deleted_files.txt\n",
        "  find_inc\n",
        "  find drive/ -type f -iname '*.mov' | grep -v \"IMG_0239\" | grep -v \"School\" >> deleted_files.txt\n",
        "  find_inc\n",
        "  find drive/ -type f -iname '*Collaborating*With*Parents*' | grep -v \"School\" >> deleted_files.txt\n",
        "  find_inc\n",
        "  find 'drive/MyDrive/Drexel_Portfolio Artifacts' -type f -size +10M >> deleted_files.txt\n",
        "  find_inc\n",
        "  find 'drive/MyDrive/Drexel_Portfolio Artifacts' -type f -iname '*.jpg' >> deleted_files.txt\n",
        "  find_inc\n",
        "  find 'drive/MyDrive/Drexel_Portfolio Artifacts' -type f -iname '*.jpeg' >> deleted_files.txt\n",
        "  find_inc\n",
        "  find 'drive/MyDrive/Drexel_Portfolio Artifacts' -type f -iname '*.png' >> deleted_files.txt\n",
        "  find_inc\n",
        "  find 'drive/MyDrive/Drexel_Portfolio Artifacts' -type f -iname '*.mov' >> deleted_files.txt\n",
        "  find_inc\n",
        "  find 'drive/MyDrive/Drexel_Portfolio Artifacts' -type f -iname '*.mkv' >> deleted_files.txt\n",
        "  find_inc\n",
        "  find 'drive/MyDrive/Drexel_Portfolio Artifacts' -type f -iname '*.mp4' >> deleted_files.txt\n",
        "  find_inc\n",
        "  find drive/ -type f -iname '*.pdf' | grep -i 'textbook' >> deleted_files.txt\n",
        "  find_inc\n",
        "  find drive/ -type f -iname '434*mp*homework*.pdf' >> deleted_files.txt\n",
        "  find_inc\n",
        "  find drive/ -type f -iname '455BC*.pdf' >> deleted_files.txt\n",
        "  find_inc\n",
        "  find 'drive/MyDrive/Second Year' -type f -iname '*.pdf' >> deleted_files.txt\n",
        "  find_inc\n",
        "  find 'drive/MyDrive/First Year' -type f -iname '*.pdf' >> deleted_files.txt\n",
        "  find_inc\n",
        "  find 'drive/MyDrive/Podcast How to' -type f >> deleted_files.txt\n",
        "  find_inc\n",
        "  find 'drive/MyDrive/HR PSA 2014 B' -type f | grep -v 'GLiu AMansfield Sports and Racism' >> deleted_files.txt\n",
        "  find_inc\n",
        "  find drive/ -type f -iname '*Now Hiring 2018 GENERAL staff*.pdf' >> deleted_files.txt\n",
        "  find_inc\n",
        "  find drive/MyDrive/Cycles*/*/PDFs/* -type f | grep '.pdf' >> deleted_files.txt\n",
        "  find_inc\n",
        "  find drive/MyDrive/compositions -type f -iname '*.mscz' >> deleted_files.txt\n",
        "  find_inc\n",
        "  find drive/MyDrive/20*BECD*Biology/* -type f >> deleted_files.txt\n",
        "  find_inc\n",
        "}\n",
        "\n",
        "perma_rm () {\n",
        "  python delete_file.py \"$1\"\n",
        "}\n",
        "\n",
        "clean_trash_files_query () {\n",
        "  cat deleted_files.txt | sort | uniq > deleted_files2.txt\n",
        "  mv deleted_files2.txt deleted_files.txt\n",
        "}\n",
        "\n",
        "remove_trash_files () {\n",
        "  while IFS= read -r line; do\n",
        "    echo \"Deleting $line\"\n",
        "    perma_rm \"$line\"\n",
        "  done < deleted_files.txt\n",
        "}\n",
        "\n",
        "remove_duplicate_files () {\n",
        "  fdupes -r -A -q -f drive/MyDrive 2> /dev/null | grep -v \"^$\" | while IFS= read -r line; do\n",
        "\n",
        "    NUM_OF_DUPS=$(($(cat tmp_dups_count) + 1))\n",
        "    echo \"$NUM_OF_DUPS\" > tmp_dups_count\n",
        "\n",
        "    echo \"Deleting $line\"\n",
        "    perma_rm \"$line\"\n",
        "  done\n",
        "}\n",
        "\n",
        "\n",
        "\n",
        "clean_iteration () {\n",
        "\n",
        "  CLEAN_ITERATIONS=$(($CLEAN_ITERATIONS + 1))\n",
        "\n",
        "  echo \"=== Querying for garbage ===\"\n",
        "  find_trash_files\n",
        "  echo \"=== Cleaning garbage query ===\"\n",
        "  clean_trash_files_query\n",
        "  echo \"=== Removing garbage files ===\"\n",
        "  remove_trash_files\n",
        "  echo \"=== Removing duplicate files ===\"\n",
        "  remove_duplicate_files\n",
        "\n",
        "}\n",
        "\n",
        "compress_then_delete () {\n",
        "  echo \"Archiving files\"\n",
        "  7z a -t7z -m0=lzma -mx=9 -mfb=64 -md=32m -ms=on archive-desperate.7z archive\n",
        "  cp archive-desperate.7z drive/MyDrive/archive-desperate.7z\n",
        "\n",
        "  echo \"Deleting uncompressed files\"\n",
        "  rm -rf archive\n",
        "}\n",
        "\n",
        "\n",
        "compressed_files_inc () {\n",
        "  NUM_OF_COMPR=$(($(cat tmp_compr_count) + 1))\n",
        "  echo \"$NUM_OF_COMPR\" > tmp_compr_count\n",
        "}\n",
        "\n",
        "clean_desperate_iteration () {\n",
        "\n",
        "  DESPERATE_ITERATIONS=$(($DESPERATE_ITERATIONS + 1))\n",
        "\n",
        "  echo \"=== Compressing files ===\"\n",
        "\n",
        "  find drive/ -type f -size +1M | head -n 50 | grep -v 'archive-desperate.7z' | grep -v 'Drive Manage.ipynb' | grep -v '\\.g' | while IFS= read -r line; do\n",
        "    compressed_files_inc\n",
        "\n",
        "    COMPR_FILE_LOCATION=$( dirname \"archive/$line\" )\n",
        "\n",
        "    mkdir -p \"$COMPR_FILE_LOCATION\"\n",
        "    mv \"$line\" \"archive/$line\"\n",
        "\n",
        "    echo \"Preparing to archive $line\"\n",
        "  done\n",
        "\n",
        "  compress_then_delete\n",
        "}\n",
        "\n",
        "\n",
        "clean_progress_report () {\n",
        "  local NUM_OF_TRASH=$(cat deleted_files.txt | wc -l)\n",
        "  local NOW=$(TZ=\"EST\" date)\n",
        "\n",
        "  local BYTES_USED_REPORT=$(du -d 0 drive/MyDrive | sed -r 's/\\t([^\\n]+)$//')\n",
        "\n",
        "  echo \"Clean Iterations: $CLEAN_ITERATIONS\"\n",
        "  echo \"Desperate Iterations: $DESPERATE_ITERATIONS\"\n",
        "  echo \"\"\n",
        "  echo \"Removed $(cat tmp_dups_count) duplicate files.\"\n",
        "  echo \"Removed $NUM_OF_TRASH trash files.\"\n",
        "  echo \"Compressed $(cat tmp_compr_count) files to save space.\"\n",
        "  echo \"\"\n",
        "  echo \"Completed $NOW\"\n",
        "  echo \"\"\n",
        "  echo \"Space used: $(($BYTES_USED_REPORT / 150000)) %\"\n",
        "}\n",
        "\n",
        "while :\n",
        "do\n",
        "\n",
        "  BYTES_USED=$(du -d 0 drive/MyDrive | sed -r 's/\\t([^\\n]+)$//')\n",
        "\n",
        "  if [[ $BYTES_USED -gt 11000000 ]]\n",
        "    then\n",
        "      echo \"=== Running in desperate mode ===\"\n",
        "      clean_iteration\n",
        "      clean_desperate_iteration\n",
        "      clean_progress_report > drive/MyDrive/progress.txt\n",
        "\n",
        "    else\n",
        "      echo \"=== Running in normal mode ===\"\n",
        "      clean_iteration\n",
        "      clean_progress_report > drive/MyDrive/progress.txt\n",
        "  fi\n",
        "\n",
        "done\n",
        "\n"
      ],
      "execution_count": 50,
      "outputs": [
        {
          "output_type": "stream",
          "text": [
            "Process is interrupted.\n"
          ],
          "name": "stdout"
        }
      ]
    },
    {
      "cell_type": "markdown",
      "metadata": {
        "id": "pKcrrc8K0K9X"
      },
      "source": [
        "# misc"
      ]
    },
    {
      "cell_type": "code",
      "metadata": {
        "id": "VxNccEZ7eIZs",
        "colab": {
          "base_uri": "https://localhost:8080/"
        },
        "outputId": "98de2e96-1351-475c-ee55-b6faa6050ec7"
      },
      "source": [
        "!du -h -d 1 drive/MyDrive > temp && cat temp | grep \"drive/MyDrive/gliu20@scarsdaleschools.org 2021-06-24 08:31\" >> temp && cat temp | sort -h -r | uniq -u | grep \"drive/MyDrive/\""
      ],
      "execution_count": 44,
      "outputs": [
        {
          "output_type": "stream",
          "text": [
            "11M\tdrive/MyDrive/Wall Street Journal Front Pages\n",
            "7.5M\tdrive/MyDrive/application process\n",
            "5.4M\tdrive/MyDrive/YPP Westchester\n",
            "3.9M\tdrive/MyDrive/LRC Website\n",
            "3.5M\tdrive/MyDrive/In-Class Essay #1 Resources\n",
            "2.9M\tdrive/MyDrive/Summer\n",
            "2.9M\tdrive/MyDrive/Science Olympiad Test Reserve\n",
            "2.8M\tdrive/MyDrive/Frosh\n",
            "1.9M\tdrive/MyDrive/More posters pics\n",
            "1.9M\tdrive/MyDrive/Final Team PowerPoint Presentations\n",
            "1.6M\tdrive/MyDrive/Unit III Resources\n",
            "1.5M\tdrive/MyDrive/Hour of Code\n",
            "1.5M\tdrive/MyDrive/Drexel_Portfolio Artifacts\n",
            "939K\tdrive/MyDrive/Discipline Zoom Backgrounds\n",
            "769K\tdrive/MyDrive/Butler 6 Service Learning Project\n",
            "683K\tdrive/MyDrive/Unit One Test Resources\n",
            "636K\tdrive/MyDrive/ece2t3\n",
            "609K\tdrive/MyDrive/Free Materials: Planner and Template\n",
            "396K\tdrive/MyDrive/Cycles (2)\n",
            "320K\tdrive/MyDrive/Cycles\n",
            "319K\tdrive/MyDrive/ece2t4\n",
            "296K\tdrive/MyDrive/412 Algebra 2018-2019\n",
            "254K\tdrive/MyDrive/Schematics\n",
            "228K\tdrive/MyDrive/Cycles (1)\n",
            "148K\tdrive/MyDrive/Release\n",
            "124K\tdrive/MyDrive/scioly regional forms\n",
            "124K\tdrive/MyDrive/Current Events\n",
            "123K\tdrive/MyDrive/433 Algebra 2 and Trigonometry\n",
            "110K\tdrive/MyDrive/Unit IV Test Resources\n",
            "54K\tdrive/MyDrive/Operation QUICK\n",
            "30K\tdrive/MyDrive/First Year\n",
            "22K\tdrive/MyDrive/Action\n",
            "17K\tdrive/MyDrive/Book Estimations\n",
            "15K\tdrive/MyDrive/Study (Chem)\n",
            "14K\tdrive/MyDrive/WNBC Footage\n",
            "12K\tdrive/MyDrive/Second Year\n",
            "12K\tdrive/MyDrive/First Year Textbooks\n",
            "12K\tdrive/MyDrive/Engineering Science Textbooks - Year 1\n",
            "10K\tdrive/MyDrive/Congressional Simulation\n",
            "10K\tdrive/MyDrive/Arguments for Legislative Session\n",
            "9.5K\tdrive/MyDrive/Arguments for Senate Debate\n",
            "8.5K\tdrive/MyDrive/Section B- Feedback\n",
            "8.0K\tdrive/MyDrive/Test Corrections\n",
            "7.5K\tdrive/MyDrive/Readings\n",
            "7.5K\tdrive/MyDrive/Field Trips (Public)\n",
            "7.5K\tdrive/MyDrive/Federal Reserve Senate Debate Presentations\n",
            "7.0K\tdrive/MyDrive/Study Notes\n",
            "7.0K\tdrive/MyDrive/Publicity!\n",
            "7.0K\tdrive/MyDrive/COVID-19\n",
            "6.5K\tdrive/MyDrive/Week Four Readings\n",
            "6.5K\tdrive/MyDrive/Sample Student Outlines\n",
            "6.0K\tdrive/MyDrive/Week Five Readings\n",
            "6.0K\tdrive/MyDrive/Week 1 Readings\n",
            "6.0K\tdrive/MyDrive/Warriors Don't Cry Project\n",
            "6.0K\tdrive/MyDrive/Unit 3 Test Prep Problems\n",
            "5.5K\tdrive/MyDrive/Week Two readings\n",
            "5.0K\tdrive/MyDrive/Teacher Interest [Public]\n",
            "5.0K\tdrive/MyDrive/Supergroup 6: Upsilon Phi Chi\n",
            "5.0K\tdrive/MyDrive/Portfolio Year 1 2017-2018\n",
            "5.0K\tdrive/MyDrive/Info Packet\n",
            "5.0K\tdrive/MyDrive/atlas\n",
            "4.5K\tdrive/MyDrive/New York\n",
            "4.5K\tdrive/MyDrive/California\n",
            "4.5K\tdrive/MyDrive/Atlas New Hampshire\n",
            "4.0K\tdrive/MyDrive/Week Seven Reading\n",
            "4.0K\tdrive/MyDrive/Podcast How to\n",
            "4.0K\tdrive/MyDrive/NYU Videos\n",
            "4.0K\tdrive/MyDrive/HR PSA 2014 B\n",
            "4.0K\tdrive/MyDrive/First Year Textbooks (Core8)\n",
            "4.0K\tdrive/MyDrive/ece2t2\n",
            "4.0K\tdrive/MyDrive/Drone Live\n",
            "4.0K\tdrive/MyDrive/documentation 11 15\n",
            "4.0K\tdrive/MyDrive/compositions\n"
          ],
          "name": "stdout"
        }
      ]
    },
    {
      "cell_type": "code",
      "metadata": {
        "id": "Bnhv2vbxSNYm",
        "colab": {
          "base_uri": "https://localhost:8080/"
        },
        "outputId": "7447cf85-d7c2-4d16-fcbf-1164e7277f87"
      },
      "source": [
        "!find * -type f | xargs -d '\\n' du -sh | grep -v \".gdoc\" | grep -v \".gdraw\" | grep -v \".gsheet\" | grep -v \".gslides\" | sort -h | tail -n 100"
      ],
      "execution_count": 45,
      "outputs": [
        {
          "output_type": "stream",
          "text": [
            "^C\n"
          ],
          "name": "stdout"
        }
      ]
    },
    {
      "cell_type": "code",
      "metadata": {
        "colab": {
          "base_uri": "https://localhost:8080/"
        },
        "id": "xwcZmyhKczuM",
        "outputId": "ac127558-3957-4a93-8632-bebad0afbed7"
      },
      "source": [
        "!du -d 0 drive/MyDrive | sed -r 's/\\t([^\\n]+)$//'"
      ],
      "execution_count": 46,
      "outputs": [
        {
          "output_type": "stream",
          "text": [
            "730374\n"
          ],
          "name": "stdout"
        }
      ]
    },
    {
      "cell_type": "code",
      "metadata": {
        "colab": {
          "base_uri": "https://localhost:8080/"
        },
        "id": "h1-jXNucmdPH",
        "outputId": "84ad352e-c1f4-4852-cb96-948f91567689"
      },
      "source": [
        "!fdupes --help"
      ],
      "execution_count": 47,
      "outputs": [
        {
          "output_type": "stream",
          "text": [
            "Usage: fdupes [options] DIRECTORY...\n",
            "\n",
            " -r --recurse     \tfor every directory given follow subdirectories\n",
            "                  \tencountered within\n",
            " -R --recurse:    \tfor each directory given after this option follow\n",
            "                  \tsubdirectories encountered within (note the ':' at\n",
            "                  \tthe end of the option, manpage for more details)\n",
            " -s --symlinks    \tfollow symlinks\n",
            " -H --hardlinks   \tnormally, when two or more files point to the same\n",
            "                  \tdisk area they are treated as non-duplicates; this\n",
            "                  \toption will change this behavior\n",
            " -n --noempty     \texclude zero-length files from consideration\n",
            " -A --nohidden    \texclude hidden files from consideration\n",
            " -f --omitfirst   \tomit the first file in each set of matches\n",
            " -1 --sameline    \tlist each set of matches on a single line\n",
            " -S --size        \tshow size of duplicate files\n",
            " -m --summarize   \tsummarize dupe information\n",
            " -q --quiet       \thide progress indicator\n",
            " -d --delete      \tprompt user for files to preserve and delete all\n",
            "                  \tothers; important: under particular circumstances,\n",
            "                  \tdata may be lost when using this option together\n",
            "                  \twith -s or --symlinks, or when specifying a\n",
            "                  \tparticular directory more than once; refer to the\n",
            "                  \tfdupes documentation for additional information\n",
            " -N --noprompt    \ttogether with --delete, preserve the first file in\n",
            "                  \teach set of duplicates and delete the rest without\n",
            "                  \tprompting the user\n",
            " -I --immediate   \tdelete duplicates as they are encountered, without\n",
            "                  \tgrouping into sets; implies --noprompt\n",
            " -p --permissions \tdon't consider files with different owner/group or\n",
            "                  \tpermission bits as duplicates\n",
            " -o --order=BY    \tselect sort order for output, linking and deleting; by\n",
            "                  \tmtime (BY='time'; default) or filename (BY='name')\n",
            " -i --reverse     \treverse order while sorting\n",
            " -v --version     \tdisplay fdupes version\n",
            " -h --help        \tdisplay this help message\n",
            "\n"
          ],
          "name": "stdout"
        }
      ]
    }
  ]
}